{
 "cells": [
  {
   "cell_type": "markdown",
   "metadata": {
    "slideshow": {
     "slide_type": "slide"
    }
   },
   "source": [
    "# Discrete Event Simulation"
   ]
  },
  {
   "cell_type": "markdown",
   "metadata": {
    "cell_style": "center",
    "slideshow": {
     "slide_type": "slide"
    }
   },
   "source": [
    "## Motivation\n",
    "why/when should I use it?"
   ]
  },
  {
   "cell_type": "markdown",
   "metadata": {
    "cell_style": "center",
    "slideshow": {
     "slide_type": "subslide"
    }
   },
   "source": [
    "### 2D box ball bounce"
   ]
  },
  {
   "cell_type": "markdown",
   "metadata": {
    "cell_style": "split",
    "slideshow": {
     "slide_type": "fragment"
    }
   },
   "source": [
    "<img src=\"box.png\" alt=\"Drawing\" style=\"width: 500px;\"/>"
   ]
  },
  {
   "cell_type": "markdown",
   "metadata": {
    "cell_style": "split",
    "slideshow": {
     "slide_type": "fragment"
    }
   },
   "source": [
    "#### Assumptions"
   ]
  },
  {
   "cell_type": "markdown",
   "metadata": {
    "cell_style": "split",
    "slideshow": {
     "slide_type": "fragment"
    }
   },
   "source": [
    "#### Solutions"
   ]
  },
  {
   "cell_type": "markdown",
   "metadata": {
    "cell_style": "split",
    "slideshow": {
     "slide_type": "fragment"
    }
   },
   "source": [
    "- Brute Force\n",
    "- Smarter Approach"
   ]
  },
  {
   "cell_type": "markdown",
   "metadata": {
    "slideshow": {
     "slide_type": "slide"
    }
   },
   "source": [
    "## Requirements"
   ]
  },
  {
   "cell_type": "markdown",
   "metadata": {
    "slideshow": {
     "slide_type": "fragment"
    }
   },
   "source": [
    "- you should be able to compute *analytically* the state of the system at any time between 2 events\n",
    "- one event can occur at a given time"
   ]
  },
  {
   "cell_type": "markdown",
   "metadata": {
    "slideshow": {
     "slide_type": "slide"
    }
   },
   "source": [
    "## System Structure"
   ]
  },
  {
   "cell_type": "markdown",
   "metadata": {
    "slideshow": {
     "slide_type": "fragment"
    }
   },
   "source": [
    "- the system consist of *entities*\n",
    "- each entity has a state at a given time $S_i(t)$"
   ]
  },
  {
   "cell_type": "markdown",
   "metadata": {
    "slideshow": {
     "slide_type": "slide"
    }
   },
   "source": [
    "## How the system evolve?"
   ]
  },
  {
   "cell_type": "markdown",
   "metadata": {
    "slideshow": {
     "slide_type": "fragment"
    }
   },
   "source": [
    "- When an event occurs, this result in some action\n",
    "- that action will result in changing the state of certain entities"
   ]
  },
  {
   "cell_type": "markdown",
   "metadata": {
    "slideshow": {
     "slide_type": "slide"
    }
   },
   "source": [
    "## The irony is ..."
   ]
  },
  {
   "cell_type": "markdown",
   "metadata": {
    "slideshow": {
     "slide_type": "fragment"
    }
   },
   "source": [
    "- Discrete events systems are continuous in time\n",
    "- Continuous time models are discrete in time"
   ]
  },
  {
   "cell_type": "markdown",
   "metadata": {
    "slideshow": {
     "slide_type": "slide"
    }
   },
   "source": [
    "## Generic Algorithm"
   ]
  },
  {
   "cell_type": "code",
   "execution_count": 1,
   "metadata": {
    "slideshow": {
     "slide_type": "fragment"
    }
   },
   "outputs": [],
   "source": [
    "#initialize your time and state\n",
    "\n",
    "# while not (end condition occured):\n",
    "#     compute the next event to come based on the current states\n",
    "#     determine the closest event to happen\n",
    "#     apply the action that this event imply (change states)\n",
    "#     jump to the next time"
   ]
  },
  {
   "cell_type": "markdown",
   "metadata": {
    "slideshow": {
     "slide_type": "slide"
    }
   },
   "source": [
    "## Traffic Simulation"
   ]
  },
  {
   "cell_type": "code",
   "execution_count": 8,
   "metadata": {
    "slideshow": {
     "slide_type": "notes"
    }
   },
   "outputs": [],
   "source": [
    "#!/usr/bin/python\n",
    "# -*- coding: latin-1 -*-\n",
    "\n",
    "from heapq import *\n",
    "from numpy import random\n",
    "\n",
    "### STATE ##########################################\n",
    "\n",
    "class State:\n",
    "    def __init__(self):\n",
    "        self.green = False\n",
    "        self.cars = 0\n",
    "    def is_green(self):\n",
    "        \"\"\"\n",
    "        True if the light is green\n",
    "        \"\"\"\n",
    "        return self.green\n",
    "    def add_car(self):\n",
    "        \"\"\"\n",
    "        Adds a car in the queue\n",
    "        \"\"\"\n",
    "        self.cars = self.cars + 1\n",
    "    def purge_cars(self):\n",
    "        \"\"\"\n",
    "        Empty waiting cars\n",
    "        \"\"\"\n",
    "        self.cars = 0\n",
    "    def waiting_cars(self):\n",
    "        \"\"\"\n",
    "        Returns the number of car waiting\n",
    "        \"\"\"\n",
    "        return self.cars\n",
    "    def turn_green(self):\n",
    "        \"\"\"\n",
    "        The light turns green\n",
    "        \"\"\"\n",
    "        self.green = True\n",
    "    def turn_red(self):\n",
    "        \"\"\"\n",
    "        The light turns red\n",
    "        \"\"\"\n",
    "        self.green = False\n",
    "    def __str__(self):\n",
    "        \"\"\"\n",
    "        Displays the status of the crossroads\n",
    "        \"\"\"\n",
    "        return \"Green light =\" + str(self.green) + \", cars=\" + str(self.cars)\n",
    "\n",
    "### EVENTS ###########################################\n",
    "\n",
    "Tc = 30 # Time latency to change the traffic lights from red to green once a car is found waiting in the queue\n",
    "Tp = 15 # Passage time\n",
    "\n",
    "class Event:\n",
    "    def time(self):\n",
    "        \"\"\"\n",
    "        Returns the time at which the event will be processed\n",
    "        \"\"\"\n",
    "        return self.t\n",
    "    def __str__(self):\n",
    "        \"\"\"\n",
    "        Displays Event\n",
    "        \"\"\"\n",
    "        return self.name + \"(\" + str( self.t ) + \")\"\n",
    "    def __lt__(self, other):\n",
    "        \"\"\"\n",
    "        Compares the event with another sorted by processing order priority\n",
    "        \"\"\"\n",
    "        return self.t < other.t\n",
    "    \n",
    "class CAR(Event):\n",
    "    def __init__(self,time):\n",
    "        self.t = time\n",
    "        self.name = \"CAR\"\n",
    "    def action(self,queue,state):\n",
    "        if not state.is_green():\n",
    "            # On the line 77, change the state and add a car.\n",
    "            state.add_car()\n",
    "            if state.waiting_cars() == 1:\n",
    "                # On the line 79, insert into the queue a R2G event at the time (self.t + Tc)\n",
    "                queue.insert(R2G(self.t+Tc))\n",
    "\n",
    "class R2G(Event):\n",
    "    def __init__(self,time):\n",
    "        self.t = time\n",
    "        self.name = \"R2G\"\n",
    "    def action(self,queue,state):\n",
    "        queue.insert( G2R( self.t + state.waiting_cars() * Tp ) )\n",
    "        # On the line 87, change the state and turn the light to green\n",
    "        state.turn_green()\n",
    "        state.purge_cars()\n",
    "\n",
    "class G2R(Event):\n",
    "    def __init__(self,time):\n",
    "        self.t = time\n",
    "        self.name = \"G2R\"\n",
    "    def action(self,queue,state):\n",
    "        # On the line 95, change the state and turn the light to red\n",
    "        state.turn_red()\n",
    "\n",
    "### EVENT QUEUE ##############################################\n",
    "\n",
    "class EventQueue:\n",
    "    def __init__(self):\n",
    "        self.q = []\n",
    "    def notEmpty(self):\n",
    "        \"\"\"\n",
    "        Returns true if the queue is not empty\n",
    "        \"\"\"\n",
    "        return len(self.q) > 0\n",
    "    def remaining(self):\n",
    "        \"\"\"\n",
    "        Returns the number of events awaiting processing\n",
    "        \"\"\"\n",
    "        return len(self.q)\n",
    "    def insert(self, event):\n",
    "        \"\"\" \n",
    "        Create a new event in the queue\n",
    "        \"\"\"\n",
    "        heappush( self.q, event )\n",
    "    def next(self):\n",
    "        \"\"\"\n",
    "        Returns and removes from the queue the next event to be processed\n",
    "        \"\"\"\n",
    "        return heappop( self.q )"
   ]
  },
  {
   "cell_type": "code",
   "execution_count": 9,
   "metadata": {
    "slideshow": {
     "slide_type": "slide"
    }
   },
   "outputs": [
    {
     "name": "stdout",
     "output_type": "stream",
     "text": [
      "CAR(10)\n",
      "CAR(25)\n",
      "CAR(35)\n",
      "R2G(40)\n",
      "CAR(60)\n",
      "CAR(75)\n",
      "G2R(85)\n",
      "CAR(86)\n",
      "CAR(95)\n",
      "CAR(101)\n",
      "CAR(102)\n",
      "CAR(103)\n",
      "CAR(105)\n",
      "CAR(113)\n",
      "R2G(116)\n",
      "CAR(120)\n",
      "CAR(123)\n",
      "CAR(128)\n",
      "CAR(134)\n",
      "CAR(137)\n",
      "CAR(142)\n",
      "CAR(145)\n",
      "CAR(150)\n",
      "CAR(158)\n",
      "CAR(166)\n",
      "CAR(168)\n",
      "CAR(176)\n",
      "CAR(177)\n",
      "CAR(184)\n",
      "CAR(192)\n",
      "CAR(199)\n",
      "CAR(201)\n",
      "CAR(202)\n",
      "CAR(204)\n",
      "CAR(213)\n",
      "G2R(221)\n",
      "CAR(222)\n",
      "CAR(226)\n",
      "CAR(235)\n",
      "CAR(243)\n",
      "CAR(247)\n",
      "R2G(252)\n",
      "CAR(254)\n",
      "CAR(260)\n",
      "CAR(262)\n",
      "CAR(266)\n",
      "CAR(271)\n",
      "CAR(280)\n",
      "CAR(282)\n",
      "CAR(287)\n",
      "CAR(288)\n",
      "CAR(292)\n",
      "CAR(295)\n",
      "CAR(296)\n",
      "CAR(301)\n",
      "CAR(304)\n",
      "CAR(312)\n",
      "CAR(320)\n",
      "G2R(327)\n",
      "CAR(329)\n",
      "CAR(336)\n",
      "CAR(340)\n",
      "CAR(348)\n",
      "CAR(356)\n",
      "R2G(359)\n",
      "CAR(361)\n",
      "CAR(367)\n",
      "CAR(371)\n",
      "CAR(378)\n",
      "CAR(387)\n",
      "CAR(388)\n",
      "CAR(391)\n",
      "CAR(399)\n",
      "CAR(407)\n",
      "CAR(415)\n",
      "CAR(419)\n",
      "CAR(420)\n",
      "CAR(429)\n",
      "G2R(434)\n",
      "CAR(437)\n",
      "CAR(445)\n",
      "CAR(447)\n",
      "CAR(449)\n",
      "CAR(453)\n",
      "CAR(454)\n",
      "CAR(463)\n",
      "R2G(467)\n",
      "CAR(470)\n",
      "CAR(475)\n",
      "CAR(481)\n",
      "CAR(488)\n",
      "CAR(491)\n",
      "CAR(497)\n",
      "CAR(505)\n",
      "CAR(514)\n",
      "CAR(519)\n",
      "CAR(524)\n",
      "CAR(532)\n",
      "CAR(540)\n",
      "CAR(545)\n",
      "CAR(546)\n",
      "CAR(549)\n",
      "CAR(550)\n",
      "CAR(558)\n",
      "CAR(560)\n",
      "CAR(568)\n",
      "G2R(572)\n",
      "CAR(577)\n",
      "CAR(582)\n",
      "CAR(583)\n",
      "CAR(585)\n",
      "CAR(594)\n",
      "CAR(597)\n",
      "CAR(601)\n",
      "R2G(607)\n",
      "G2R(712)\n"
     ]
    }
   ],
   "source": [
    "### MAIN #####################################################\n",
    "\n",
    "Q = EventQueue()\n",
    "\n",
    "Q.insert( CAR(10) ) \n",
    "Q.insert( CAR(25) )\n",
    "Q.insert( CAR(35) )\n",
    "Q.insert( CAR(60) )\n",
    "Q.insert( CAR(75) )\n",
    "\n",
    "# To answer the second part of this project, uncomment the following lines 134 to 139 and change the passage time to 15 seconds (at line 52).\n",
    "random.seed(1)\n",
    "additionalNumCarInQueue=100\n",
    "tRandom = 80\n",
    "for i in range(1, additionalNumCarInQueue):\n",
    "    tRandom = random.randint(tRandom+1, tRandom+10)\n",
    "    Q.insert( CAR(tRandom) )  \n",
    "    \n",
    "\n",
    "S = State()\n",
    "\n",
    "# Processing events until the queue is Q is empty\n",
    "while Q.notEmpty():\n",
    "    e = Q.next()\n",
    "    print( e )\n",
    "    e.action(Q,S)\n",
    "\n"
   ]
  },
  {
   "cell_type": "code",
   "execution_count": 11,
   "metadata": {},
   "outputs": [
    {
     "name": "stdout",
     "output_type": "stream",
     "text": [
      "( ) [\n",
      "( ) ]\n",
      "( [ ]\n",
      ") [ ]\n"
     ]
    }
   ],
   "source": [
    "for (i1, i2, i3) in it.combinations(['(',')','[',']'], 3):\n",
    "    print(i1,i2, i3)"
   ]
  },
  {
   "cell_type": "code",
   "execution_count": 15,
   "metadata": {},
   "outputs": [
    {
     "name": "stdout",
     "output_type": "stream",
     "text": [
      "(1, 2)\n",
      "(1, 3)\n",
      "(2, 1)\n",
      "(2, 3)\n",
      "(3, 1)\n",
      "(3, 2)\n"
     ]
    }
   ],
   "source": [
    "for item in it.permutations([1,2,3,],2):\n",
    "    print(item)"
   ]
  },
  {
   "cell_type": "code",
   "execution_count": null,
   "metadata": {},
   "outputs": [],
   "source": []
  }
 ],
 "metadata": {
  "celltoolbar": "Slideshow",
  "kernelspec": {
   "display_name": "Python 3",
   "language": "python",
   "name": "python3"
  },
  "language_info": {
   "codemirror_mode": {
    "name": "ipython",
    "version": 3
   },
   "file_extension": ".py",
   "mimetype": "text/x-python",
   "name": "python",
   "nbconvert_exporter": "python",
   "pygments_lexer": "ipython3",
   "version": "3.7.3"
  },
  "rise": {
   "enable_chalkboard": true
  }
 },
 "nbformat": 4,
 "nbformat_minor": 2
}
